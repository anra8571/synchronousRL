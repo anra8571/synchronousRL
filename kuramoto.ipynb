{
 "cells": [
  {
   "cell_type": "code",
   "execution_count": 1,
   "metadata": {},
   "outputs": [],
   "source": [
    "import numpy as np\n",
    "import pandas as pd\n",
    "import matplotlib.pyplot as plt\n",
    "import networkx as nx\n",
    "import seaborn as sns\n",
    "from kuramoto import Kuramoto, plot_phase_coherence, plot_activity"
   ]
  },
  {
   "cell_type": "code",
   "execution_count": 5,
   "metadata": {},
   "outputs": [
    {
     "name": "stdout",
     "output_type": "stream",
     "text": [
      "Graph with 100 nodes and 4950 edges\n",
      "[[0. 1. 1. ... 1. 1. 1.]\n",
      " [1. 0. 1. ... 1. 1. 1.]\n",
      " [1. 1. 0. ... 1. 1. 1.]\n",
      " ...\n",
      " [1. 1. 1. ... 0. 1. 1.]\n",
      " [1. 1. 1. ... 1. 0. 1.]\n",
      " [1. 1. 1. ... 1. 1. 0.]]\n"
     ]
    },
    {
     "ename": "AttributeError",
     "evalue": "'DataFrame' object has no attribute 'number_of_edges'",
     "output_type": "error",
     "traceback": [
      "\u001b[1;31m---------------------------------------------------------------------------\u001b[0m",
      "\u001b[1;31mAttributeError\u001b[0m                            Traceback (most recent call last)",
      "\u001b[1;32mc:\\Users\\annal\\Desktop\\synchronousRL\\kuramoto.ipynb Cell 2\u001b[0m in \u001b[0;36m<cell line: 7>\u001b[1;34m()\u001b[0m\n\u001b[0;32m      <a href='vscode-notebook-cell:/c%3A/Users/annal/Desktop/synchronousRL/kuramoto.ipynb#W2sZmlsZQ%3D%3D?line=3'>4</a>\u001b[0m \u001b[39mprint\u001b[39m(graph)\n\u001b[0;32m      <a href='vscode-notebook-cell:/c%3A/Users/annal/Desktop/synchronousRL/kuramoto.ipynb#W2sZmlsZQ%3D%3D?line=5'>6</a>\u001b[0m n0523_df \u001b[39m=\u001b[39m pd\u001b[39m.\u001b[39mread_csv(\u001b[39m'\u001b[39m\u001b[39m./data/n0523.csv\u001b[39m\u001b[39m'\u001b[39m)\n\u001b[1;32m----> <a href='vscode-notebook-cell:/c%3A/Users/annal/Desktop/synchronousRL/kuramoto.ipynb#W2sZmlsZQ%3D%3D?line=6'>7</a>\u001b[0m n0523_graph \u001b[39m=\u001b[39m nx\u001b[39m.\u001b[39;49mto_numpy_array(n0523_df)\n",
      "File \u001b[1;32m~\\AppData\\Local\\Packages\\PythonSoftwareFoundation.Python.3.9_qbz5n2kfra8p0\\LocalCache\\local-packages\\Python39\\site-packages\\networkx\\convert_matrix.py:1450\u001b[0m, in \u001b[0;36mto_numpy_array\u001b[1;34m(G, nodelist, dtype, order, multigraph_weight, weight, nonedge)\u001b[0m\n\u001b[0;32m   1447\u001b[0m A \u001b[39m=\u001b[39m np\u001b[39m.\u001b[39mfull((nlen, nlen), fill_value\u001b[39m=\u001b[39mnonedge, dtype\u001b[39m=\u001b[39mdtype, order\u001b[39m=\u001b[39morder)\n\u001b[0;32m   1449\u001b[0m \u001b[39m# Corner cases: empty nodelist or graph without any edges\u001b[39;00m\n\u001b[1;32m-> 1450\u001b[0m \u001b[39mif\u001b[39;00m nlen \u001b[39m==\u001b[39m \u001b[39m0\u001b[39m \u001b[39mor\u001b[39;00m G\u001b[39m.\u001b[39;49mnumber_of_edges() \u001b[39m==\u001b[39m \u001b[39m0\u001b[39m:\n\u001b[0;32m   1451\u001b[0m     \u001b[39mreturn\u001b[39;00m A\n\u001b[0;32m   1453\u001b[0m \u001b[39m# If dtype is structured and weight is None, use dtype field names as\u001b[39;00m\n\u001b[0;32m   1454\u001b[0m \u001b[39m# edge attributes\u001b[39;00m\n",
      "File \u001b[1;32m~\\AppData\\Local\\Packages\\PythonSoftwareFoundation.Python.3.9_qbz5n2kfra8p0\\LocalCache\\local-packages\\Python39\\site-packages\\pandas\\core\\generic.py:5478\u001b[0m, in \u001b[0;36mNDFrame.__getattr__\u001b[1;34m(self, name)\u001b[0m\n\u001b[0;32m   5471\u001b[0m \u001b[39mif\u001b[39;00m (\n\u001b[0;32m   5472\u001b[0m     name \u001b[39mnot\u001b[39;00m \u001b[39min\u001b[39;00m \u001b[39mself\u001b[39m\u001b[39m.\u001b[39m_internal_names_set\n\u001b[0;32m   5473\u001b[0m     \u001b[39mand\u001b[39;00m name \u001b[39mnot\u001b[39;00m \u001b[39min\u001b[39;00m \u001b[39mself\u001b[39m\u001b[39m.\u001b[39m_metadata\n\u001b[0;32m   5474\u001b[0m     \u001b[39mand\u001b[39;00m name \u001b[39mnot\u001b[39;00m \u001b[39min\u001b[39;00m \u001b[39mself\u001b[39m\u001b[39m.\u001b[39m_accessors\n\u001b[0;32m   5475\u001b[0m     \u001b[39mand\u001b[39;00m \u001b[39mself\u001b[39m\u001b[39m.\u001b[39m_info_axis\u001b[39m.\u001b[39m_can_hold_identifiers_and_holds_name(name)\n\u001b[0;32m   5476\u001b[0m ):\n\u001b[0;32m   5477\u001b[0m     \u001b[39mreturn\u001b[39;00m \u001b[39mself\u001b[39m[name]\n\u001b[1;32m-> 5478\u001b[0m \u001b[39mreturn\u001b[39;00m \u001b[39mobject\u001b[39;49m\u001b[39m.\u001b[39;49m\u001b[39m__getattribute__\u001b[39;49m(\u001b[39mself\u001b[39;49m, name)\n",
      "\u001b[1;31mAttributeError\u001b[0m: 'DataFrame' object has no attribute 'number_of_edges'"
     ]
    }
   ],
   "source": [
    "# https://github.com/fabridamicelli/kuramoto\n",
    "# https://github.com/ivandatta99/kuramoto_model\n",
    "# Best-commented/explained\n",
    "\n",
    "graph_nx = nx.erdos_renyi_graph(n=100, p=1)\n",
    "print(graph_nx)\n",
    "graph = nx.to_numpy_array(graph_nx)\n",
    "print(graph)"
   ]
  }
 ],
 "metadata": {
  "kernelspec": {
   "display_name": "Python 3.9.13 64-bit (microsoft store)",
   "language": "python",
   "name": "python3"
  },
  "language_info": {
   "codemirror_mode": {
    "name": "ipython",
    "version": 3
   },
   "file_extension": ".py",
   "mimetype": "text/x-python",
   "name": "python",
   "nbconvert_exporter": "python",
   "pygments_lexer": "ipython3",
   "version": "3.9.13"
  },
  "orig_nbformat": 4,
  "vscode": {
   "interpreter": {
    "hash": "9706ab57707bbcdf021af37a1d4c811161729e9a69df45e1ff59fe71cc1cf934"
   }
  }
 },
 "nbformat": 4,
 "nbformat_minor": 2
}
