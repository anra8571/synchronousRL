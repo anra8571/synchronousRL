{
 "cells": [
  {
   "cell_type": "code",
   "execution_count": 121,
   "id": "054782a5-9c13-45cd-809d-bb191f3178d1",
   "metadata": {},
   "outputs": [],
   "source": [
    "import matplotlib.pyplot as plt\n",
    "import pandas as pd\n",
    "import numpy as np\n",
    "import seaborn as sns\n",
    "\n",
    "n0523_df = pd.read_csv('./data/n0523.csv')\n",
    "data = n0523_df.values"
   ]
  },
  {
   "cell_type": "code",
   "execution_count": 95,
   "id": "3ba306a8-afe6-4d4d-8886-9dfcf8aa799e",
   "metadata": {},
   "outputs": [
    {
     "data": {
      "text/plain": [
       "<matplotlib.collections.PathCollection at 0x7fa358318ac0>"
      ]
     },
     "execution_count": 95,
     "metadata": {},
     "output_type": "execute_result"
    },
    {
     "data": {
      "image/png": "[encoded data removed]",
      "text/plain": [
       "<Figure size 432x288 with 1 Axes>"
      ]
     },
     "metadata": {
      "needs_background": "light"
     },
     "output_type": "display_data"
    }
   ],
   "source": [
    "sample = (data[63000:100000])   ### 63000 - 100000 is a good range\n",
    "plt.scatter(list(range(0, len(sample))), sample)"
   ]
  },
  {
   "cell_type": "markdown",
   "id": "63eedbec-3ebc-4d03-a14b-bcbd6afd6c9c",
   "metadata": {},
   "source": [
    "# Calculating Expected Neural Netowork Output (Training & Testing Y values)"
   ]
  },
  {
   "cell_type": "code",
   "execution_count": 128,
   "id": "b2501ecc-36cc-4fd3-9a08-6fbcd7692c50",
   "metadata": {},
   "outputs": [
    {
     "name": "stdout",
     "output_type": "stream",
     "text": [
      "989.0\n"
     ]
    }
   ],
   "source": [
    "sample = (data[63000:100000])\n",
    "sample[np.where(sample == 1)[0]] = 0\n",
    "sample[np.where(sample == 2)[0]] = 0\n",
    "\n",
    "def create_expected(sample):\n",
    "    expected = np.zeros(len(sample))\n",
    "    space = 0\n",
    "    cooldown = 0\n",
    "    values = []\n",
    "    indexes = []\n",
    "    for i in range(len(sample)):\n",
    "        if sample[i] == 0 or cooldown > 0:\n",
    "            space += 1\n",
    "        else:\n",
    "            values.append(sample[i])\n",
    "            indexes.append(i)\n",
    "\n",
    "        if cooldown > 0:\n",
    "            cooldown -= 1\n",
    "\n",
    "        if space < 15:\n",
    "            continue\n",
    "        elif len(values) > 0 and sample[i] == 0:\n",
    "            expected[ indexes[np.where(values == np.max(values))[0][0]] ] = 1\n",
    "            values = []\n",
    "            indexes = []\n",
    "            space = 0\n",
    "            cooldown = 20\n",
    "    return expected\n",
    "\n",
    "expected = create_expected(sample)\n",
    "\n",
    "print(sum(expected))"
   ]
  },
  {
   "cell_type": "code",
   "execution_count": 101,
   "id": "97651367-c116-401f-a11f-9752d2622c70",
   "metadata": {},
   "outputs": [],
   "source": [
    "spaces = []\n",
    "s = 0\n",
    "init = 1\n",
    "for i in range(len(expected)):\n",
    "    if expected[i] == 1:\n",
    "        if init == 1:\n",
    "            init = 0\n",
    "            s = 0\n",
    "            continue\n",
    "        spaces.append(s)\n",
    "        s = 0\n",
    "    else:\n",
    "        s += 1\n",
    "        "
   ]
  },
  {
   "cell_type": "code",
   "execution_count": 125,
   "id": "3c077069-cb39-4357-8202-19bb463c1d7c",
   "metadata": {},
   "outputs": [
    {
     "name": "stdout",
     "output_type": "stream",
     "text": [
      "                0\n",
      "count  988.000000\n",
      "mean    36.419028\n",
      "std     22.491257\n",
      "min     21.000000\n",
      "25%     33.000000\n",
      "50%     33.000000\n",
      "75%     34.000000\n",
      "max    477.000000\n"
     ]
    },
    {
     "data": {
      "image/png": "[encoded data removed]",
      "text/plain": [
       "<Figure size 432x288 with 1 Axes>"
      ]
     },
     "metadata": {
      "needs_background": "light"
     },
     "output_type": "display_data"
    }
   ],
   "source": [
    "print(pd.DataFrame(spaces).describe())\n",
    "len(np.where(spaces == np.median(spaces))[0])\n",
    "\n",
    "ax = sns.histplot(x=spaces, stat=\"density\", bins=30, edgecolor='black', color = \"#104d86\")"
   ]
  },
  {
   "cell_type": "markdown",
   "id": "df947402-b01a-4e93-9773-35b763426af1",
   "metadata": {},
   "source": [
    "# Example"
   ]
  },
  {
   "cell_type": "code",
   "execution_count": 93,
   "id": "9910a6ad-e422-4dfa-9aee-1aebf5c8167e",
   "metadata": {},
   "outputs": [
    {
     "data": {
      "text/plain": [
       "<matplotlib.collections.PathCollection at 0x7fa33020edc0>"
      ]
     },
     "execution_count": 93,
     "metadata": {},
     "output_type": "execute_result"
    },
    {
     "data": {
      "image/png": "[encoded data removed]",
      "text/plain": [
       "<Figure size 432x288 with 1 Axes>"
      ]
     },
     "metadata": {
      "needs_background": "light"
     },
     "output_type": "display_data"
    }
   ],
   "source": [
    "n = 63400\n",
    "sample = (data[n:n+100])\n",
    "sample[np.where(sample == 1)[0]] = 0\n",
    "sample[np.where(sample == 2)[0]] = 0\n",
    "plt.scatter(list(range(0, len(sample))), sample)"
   ]
  },
  {
   "cell_type": "code",
   "execution_count": 94,
   "id": "9f789df5-a6ac-4929-bf3c-5dfeec13b4b1",
   "metadata": {},
   "outputs": [
    {
     "name": "stdout",
     "output_type": "stream",
     "text": [
      "3.0\n"
     ]
    }
   ],
   "source": [
    "expected = np.zeros(len(sample))\n",
    "space = 0\n",
    "cooldown = 0\n",
    "values = []\n",
    "indexes = []\n",
    "for i in range(len(sample)):\n",
    "    if sample[i] == 0 or cooldown > 0:\n",
    "        space += 1\n",
    "    else:\n",
    "        values.append(sample[i])\n",
    "        indexes.append(i)\n",
    "    \n",
    "    if cooldown > 0:\n",
    "        cooldown -= 1\n",
    "    \n",
    "    if space < 15:\n",
    "        continue\n",
    "    elif len(values) > 0 and sample[i] == 0:\n",
    "        expected[ indexes[np.where(values == np.max(values))[0][0]] ] = 1\n",
    "        values = []\n",
    "        indexes = []\n",
    "        space = 0\n",
    "        cooldown = 20\n",
    "print(sum(expected))"
   ]
  },
  {
   "cell_type": "code",
   "execution_count": null,
   "id": "a5e85bae-7d2b-4810-a760-47d830b256ab",
   "metadata": {},
   "outputs": [],
   "source": []
  }
 ],
 "metadata": {
  "kernelspec": {
   "display_name": "Python 3",
   "language": "python",
   "name": "python3"
  },
  "language_info": {
   "codemirror_mode": {
    "name": "ipython",
    "version": 3
   },
   "file_extension": ".py",
   "mimetype": "text/x-python",
   "name": "python",
   "nbconvert_exporter": "python",
   "pygments_lexer": "ipython3",
   "version": "3.8.8"
  }
 },
 "nbformat": 4,
 "nbformat_minor": 5
}
