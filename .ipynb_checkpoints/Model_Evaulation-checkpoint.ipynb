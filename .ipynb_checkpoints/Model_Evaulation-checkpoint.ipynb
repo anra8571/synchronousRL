{
 "cells": [
  {
   "cell_type": "code",
   "execution_count": 40,
   "id": "a75ee56f-293d-4863-b7ce-e4147cba971c",
   "metadata": {},
   "outputs": [],
   "source": [
    "import numpy as np\n",
    "import pandas as pd\n",
    "import matplotlib.pyplot as plt\n",
    "import seaborn as sns"
   ]
  },
  {
   "cell_type": "code",
   "execution_count": null,
   "id": "355935b0-ada1-4d63-95aa-94a7059c6169",
   "metadata": {},
   "outputs": [],
   "source": [
    "# Generate an accuracy score for two N-dimensional binary arrays\n",
    "# Expected (Truth) and Prediction\n",
    "#\n",
    "# 1) Strip all non-zero INDEXES from both arrays\n",
    "# 2) For element in prediction indexes, take diff = min(exp_array - pred[i]) \n",
    "# 3) Normalize sum of differences by the maximum possible difference "
   ]
  },
  {
   "cell_type": "markdown",
   "id": "7c866824-b494-4bd5-90f5-5a8a932708b1",
   "metadata": {},
   "source": [
    "# Supporting Functions"
   ]
  },
  {
   "cell_type": "code",
   "execution_count": 77,
   "id": "f7067f82-27f7-474d-8d06-eac4846d60e2",
   "metadata": {},
   "outputs": [],
   "source": [
    "def create_expected(sample):\n",
    "    expected = np.zeros(len(sample))\n",
    "    space = 0\n",
    "    cooldown = 0\n",
    "    values = []\n",
    "    indexes = []\n",
    "    for i in range(len(sample)):\n",
    "        if sample[i] == 0 or cooldown > 0:\n",
    "            space += 1\n",
    "        else:\n",
    "            values.append(sample[i])\n",
    "            indexes.append(i)\n",
    "\n",
    "        if cooldown > 0:\n",
    "            cooldown -= 1\n",
    "\n",
    "        if space < 15:\n",
    "            continue\n",
    "        elif len(values) > 0 and sample[i] == 0:\n",
    "            expected[ indexes[np.where(values == np.max(values))[0][0]] ] = 1\n",
    "            values = []\n",
    "            indexes = []\n",
    "            space = 0\n",
    "            cooldown = 20\n",
    "    return expected\n",
    "\n",
    "def compare(test, actual):\n",
    "    diff_sum = 0\n",
    "    for num in test:\n",
    "        diff_sum += (np.absolute(actual - num).min()) / 36  # Emperical result from data\n",
    "    normalized = (len(actual) - diff_sum) / len(actual)\n",
    "    return normalized"
   ]
  },
  {
   "cell_type": "markdown",
   "id": "b29566bf-7f92-4909-a100-5da8af46d184",
   "metadata": {},
   "source": [
    "# Read in data"
   ]
  },
  {
   "cell_type": "code",
   "execution_count": 78,
   "id": "5a2a2bec-d981-4501-a701-ddb7fd81b37e",
   "metadata": {},
   "outputs": [],
   "source": [
    "data = pd.read_csv('./data/n0523.csv').values\n",
    "sample = (data[63000:100000])\n",
    "sample[np.where(sample == 1)[0]] = 0\n",
    "sample[np.where(sample == 2)[0]] = 0"
   ]
  },
  {
   "cell_type": "markdown",
   "id": "bfc582b0-579b-48c3-b34b-4f0a04309dbe",
   "metadata": {},
   "source": [
    "# Get expected values from real data - create synthetic model results (uniform)"
   ]
  },
  {
   "cell_type": "code",
   "execution_count": 99,
   "id": "e5640358-ab32-4093-a2ee-d7c1d162e51e",
   "metadata": {},
   "outputs": [],
   "source": [
    "# Create expected value array based of all local maxima\n",
    "expected = create_expected(sample)\n",
    "np.random.seed(23)\n",
    "exp_indexes = np.where(expected > 0)[0]\n",
    "test_indexes = []\n",
    "for i in range(len(exp_indexes)):\n",
    "    test_indexes.append(exp_indexes[i] + np.random.randint(-10,10))"
   ]
  },
  {
   "cell_type": "markdown",
   "id": "64ce356f-14aa-4155-b2d2-684d1b9ae43b",
   "metadata": {},
   "source": [
    "# Compare"
   ]
  },
  {
   "cell_type": "code",
   "execution_count": 100,
   "id": "ed3ad149-0480-4523-9110-4fbde7d2bea7",
   "metadata": {},
   "outputs": [
    {
     "name": "stdout",
     "output_type": "stream",
     "text": [
      "1.0\n"
     ]
    }
   ],
   "source": [
    "accuracy = compare(test_indexes, exp_indexes)\n",
    "print(accuracy)"
   ]
  },
  {
   "cell_type": "code",
   "execution_count": 94,
   "id": "8141746c-441b-4a1c-8d72-f3a1c0961d2f",
   "metadata": {},
   "outputs": [
    {
     "data": {
      "text/plain": [
       "1"
      ]
     },
     "execution_count": 94,
     "metadata": {},
     "output_type": "execute_result"
    }
   ],
   "source": [
    "model_results = np.array([3,9,16,21,30])   #indexes\n",
    "true_results= np.array([4, 10, 14, 17, 29])  #indexes\n",
    "\n",
    "np.absolute(true_results - model_results[2]).min()"
   ]
  },
  {
   "cell_type": "code",
   "execution_count": null,
   "id": "a46c5e35-2b56-4ef3-bc60-dbb1488463cd",
   "metadata": {},
   "outputs": [],
   "source": []
  }
 ],
 "metadata": {
  "kernelspec": {
   "display_name": "Python 3",
   "language": "python",
   "name": "python3"
  },
  "language_info": {
   "codemirror_mode": {
    "name": "ipython",
    "version": 3
   },
   "file_extension": ".py",
   "mimetype": "text/x-python",
   "name": "python",
   "nbconvert_exporter": "python",
   "pygments_lexer": "ipython3",
   "version": "3.8.8"
  }
 },
 "nbformat": 4,
 "nbformat_minor": 5
}
