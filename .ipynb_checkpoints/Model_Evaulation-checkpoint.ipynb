{
 "cells": [
  {
   "cell_type": "code",
   "execution_count": 1,
   "id": "a75ee56f-293d-4863-b7ce-e4147cba971c",
   "metadata": {},
   "outputs": [],
   "source": [
    "import numpy as np"
   ]
  },
  {
   "cell_type": "code",
   "execution_count": null,
   "id": "355935b0-ada1-4d63-95aa-94a7059c6169",
   "metadata": {},
   "outputs": [],
   "source": [
    "# Generate an accuracy score for two N-dimensional binary arrays\n",
    "# Expected and Prediction\n",
    "#\n",
    "# 1) Strip all non-zero INDEXES from both arrays\n",
    "# 2) For element in prediction indexes, take diff = min(exp_array - pred[i]) \n",
    "# 3) Normalize sum of differences by the maximum possible difference "
   ]
  }
 ],
 "metadata": {
  "kernelspec": {
   "display_name": "Python 3",
   "language": "python",
   "name": "python3"
  },
  "language_info": {
   "codemirror_mode": {
    "name": "ipython",
    "version": 3
   },
   "file_extension": ".py",
   "mimetype": "text/x-python",
   "name": "python",
   "nbconvert_exporter": "python",
   "pygments_lexer": "ipython3",
   "version": "3.8.8"
  }
 },
 "nbformat": 4,
 "nbformat_minor": 5
}
